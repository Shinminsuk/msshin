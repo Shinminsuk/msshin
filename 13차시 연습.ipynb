{
 "cells": [
  {
   "cell_type": "code",
   "execution_count": 10,
   "metadata": {},
   "outputs": [
    {
     "name": "stdout",
     "output_type": "stream",
     "text": [
      "2.결과 파일을 저장할 폴더명만 쓰세요(예:c:\\temp\\):c:\\doit\\data\\\n",
      "['c:\\\\doit\\\\data\\\\2020-09-28-13-55-20-13강 연습\\\\2020-09-28-13-55-20-13강 연습', 'txt']\n",
      "[['c:\\\\doit\\\\data\\\\2020-09-28-13-55-20-13강 연습\\\\2020-09-28-13-55-20-13강 연습', 'txt'], ['c:\\\\doit\\\\data\\\\2020-09-28-13-55-20-13강 연습\\\\2020-09-28-13-55-20-13강 연습', 'csv'], ['c:\\\\doit\\\\data\\\\2020-09-28-13-55-20-13강 연습\\\\2020-09-28-13-55-20-13강 연습', 'xls']]\n"
     ]
    },
    {
     "data": {
      "text/plain": [
       "'\\nfor i in name :\\n    print ( i , \"에 저장됩니다. \")\\n\\n# print( \\'%s 으로 저장됩니다.\\n %s 으로 저장됩니다.\\n %s 으로 저장됩니다.\\n\\' %(ff_name, fc_name, fx_name ) )\\n\\n#Step 1. 크롬 드라이버를 사용해서 웹 브라우저를 실행합니다.\\n\\npath = \"c:\\\\doit\\\\chromedriver_win32\\\\chromedriver.exe\"\\ndriver = webdriver.Chrome(path)\\n\\ndriver.get(\"https://korean.visitkorea.or.kr/detail/rem_detail.html?cotid=be3db10c-b642-409c-81cc-c4cdecb5bd8b&temp=\")\\ntime.sleep(2)  # 페이지가 모두 열릴 때 까지 2초 기다립니다. '"
      ]
     },
     "execution_count": 10,
     "metadata": {},
     "output_type": "execute_result"
    }
   ],
   "source": [
    "# Step 0. 필요한 모듈과 라이브러리를 로딩하고 검색어를 입력 받습니다\n",
    "from bs4 import BeautifulSoup     \n",
    "from selenium import webdriver\n",
    "import time\n",
    "import sys\n",
    "import xlwt\n",
    "import os\n",
    "\n",
    "\n",
    "query_txt = '13강 연습'\n",
    "\n",
    "f_dir = input(\"2.결과 파일을 저장할 폴더명만 쓰세요(예:c:\\\\temp\\\\):\")\n",
    "\n",
    "# 저장될 파일위치와 이름을 지정합니다\n",
    "now = time.localtime()\n",
    "s = '%04d-%02d-%02d-%02d-%02d-%02d' % (now.tm_year, now.tm_mon, now.tm_mday, now.tm_hour, now.tm_min, now.tm_sec)\n",
    "\n",
    "os.makedirs(f_dir+s+'-'+query_txt)\n",
    "os.chdir(f_dir+s+'-'+query_txt)\n",
    "\n",
    "ff_name=f_dir+s+'-'+query_txt+'\\\\'+s+'-'+query_txt+'.txt'\n",
    "fc_name=f_dir+s+'-'+query_txt+'\\\\'+s+'-'+query_txt+'.csv'\n",
    "fx_name=f_dir+s+'-'+query_txt+'\\\\'+s+'-'+query_txt+'.xls'\n",
    "\n",
    "#ff_name = \"C:\\\\doit\\\\data\\\\\"+input('검색 결과를 저장할 txt 파일경로와 이름을 지정하세요(예:c:\\\\temp\\\\test.txt): ')\n",
    "#fc_name = 'C:\\\\doit\\\\data\\\\'+input('검색 결과를 저장할 csv 파일경로와 이름을 지정하세요(예:c:\\\\temp\\\\test.csv): ')\n",
    "#fx_name = 'C:\\\\doit\\\\data\\\\'+input('검색 결과를 저장할 xls 파일경로와 이름을 지정하세요(예:c:\\\\temp\\\\test.xls): ')\n",
    "\n",
    "ftxt = ff_name.split('.')\n",
    "print(ftxt)\n",
    "\n",
    "name = [ff_name.split('.'), fc_name.split('.'), fx_name.split('.')]\n",
    "print(name)\n",
    "\n",
    "print( '%s 으로 저장됩니다.\\n %s 으로 저장됩니다.\\n %s 으로 저장됩니다.\\n' %(ff_name, fc_name, fx_name ) )\n",
    "\n",
    "#Step 1. 크롬 드라이버를 사용해서 웹 브라우저를 실행합니다.\n",
    "\n",
    "path = \"c:\\\\doit\\\\chromedriver_win32\\\\chromedriver.exe\"\n",
    "driver = webdriver.Chrome(path)\n",
    "\n",
    "driver.get(\"https://korean.visitkorea.or.kr/detail/rem_detail.html?cotid=be3db10c-b642-409c-81cc-c4cdecb5bd8b&temp=\")\n",
    "time.sleep(2)  # 페이지가 모두 열릴 때 까지 2초 기다립니다. '''"
   ]
  },
  {
   "cell_type": "code",
   "execution_count": null,
   "metadata": {},
   "outputs": [],
   "source": []
  }
 ],
 "metadata": {
  "kernelspec": {
   "display_name": "Python 3",
   "language": "python",
   "name": "python3"
  },
  "language_info": {
   "codemirror_mode": {
    "name": "ipython",
    "version": 3
   },
   "file_extension": ".py",
   "mimetype": "text/x-python",
   "name": "python",
   "nbconvert_exporter": "python",
   "pygments_lexer": "ipython3",
   "version": "3.7.3"
  }
 },
 "nbformat": 4,
 "nbformat_minor": 2
}
