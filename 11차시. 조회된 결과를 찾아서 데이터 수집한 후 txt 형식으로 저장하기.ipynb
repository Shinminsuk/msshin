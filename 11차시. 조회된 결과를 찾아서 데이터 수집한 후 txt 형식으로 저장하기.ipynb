{
 "cells": [
  {
   "cell_type": "code",
   "execution_count": 2,
   "metadata": {},
   "outputs": [
    {
     "name": "stdout",
     "output_type": "stream",
     "text": [
      "크롤링할 키워드는 무엇입니까?: 가을 여행\n",
      "검색 결과를 저장할 파일경로와 이름을 지정하세요(예:c:\\data\\test.txt): C:\\doit\\test.txt\n"
     ]
    }
   ],
   "source": [
    "#Step 0. 필요한 모듈과 라이브러리를 로딩하고 검색어를 입력 받습니다\n",
    "from bs4 import BeautifulSoup     \n",
    "from selenium import webdriver\n",
    "import time\n",
    "import sys\n",
    "\n",
    "query_txt = input('크롤링할 키워드는 무엇입니까?: ')\n",
    "f_name = input('검색 결과를 저장할 파일경로와 이름을 지정하세요(예:c:\\\\data\\\\test.txt): ')"
   ]
  },
  {
   "cell_type": "code",
   "execution_count": 6,
   "metadata": {},
   "outputs": [
    {
     "ename": "ElementClickInterceptedException",
     "evalue": "Message: element click intercepted: Element <button type=\"button\" id=\"btnSearch\" class=\"btn_search on\">...</button> is not clickable at point (206, 110). Other element would receive the click: <img src=\"../resources/images/main/img_pop_safety07_1.gif\" alt=\"전국 사회적 거리두기 2단계 - 수도권 사회적 거리두기 2.5단계 강화 국민 행동 지침 안내\">\n  (Session info: chrome=85.0.4183.102)\n",
     "output_type": "error",
     "traceback": [
      "\u001b[1;31m---------------------------------------------------------------------------\u001b[0m",
      "\u001b[1;31mElementClickInterceptedException\u001b[0m          Traceback (most recent call last)",
      "\u001b[1;32m<ipython-input-6-08cf0b4aa5b4>\u001b[0m in \u001b[0;36m<module>\u001b[1;34m\u001b[0m\n\u001b[0;32m      8\u001b[0m \u001b[1;31m#Step 2. 검색창의 이름을 찾아서 검색어를 입력합니다\u001b[0m\u001b[1;33m\u001b[0m\u001b[1;33m\u001b[0m\u001b[1;33m\u001b[0m\u001b[0m\n\u001b[0;32m      9\u001b[0m \u001b[1;33m\u001b[0m\u001b[0m\n\u001b[1;32m---> 10\u001b[1;33m \u001b[0mdriver\u001b[0m\u001b[1;33m.\u001b[0m\u001b[0mfind_element_by_id\u001b[0m\u001b[1;33m(\u001b[0m\u001b[1;34m\"btnSearch\"\u001b[0m\u001b[1;33m)\u001b[0m\u001b[1;33m.\u001b[0m\u001b[0mclick\u001b[0m\u001b[1;33m(\u001b[0m\u001b[1;33m)\u001b[0m\u001b[1;33m\u001b[0m\u001b[1;33m\u001b[0m\u001b[0m\n\u001b[0m\u001b[0;32m     11\u001b[0m \u001b[1;33m\u001b[0m\u001b[0m\n\u001b[0;32m     12\u001b[0m \u001b[0melement\u001b[0m \u001b[1;33m=\u001b[0m \u001b[0mdriver\u001b[0m\u001b[1;33m.\u001b[0m\u001b[0mfind_element_by_id\u001b[0m\u001b[1;33m(\u001b[0m\u001b[1;34m\"inp_search\"\u001b[0m\u001b[1;33m)\u001b[0m\u001b[1;33m\u001b[0m\u001b[1;33m\u001b[0m\u001b[0m\n",
      "\u001b[1;32mc:\\users\\nipa\\appdata\\local\\programs\\python\\python37-32\\lib\\site-packages\\selenium\\webdriver\\remote\\webelement.py\u001b[0m in \u001b[0;36mclick\u001b[1;34m(self)\u001b[0m\n\u001b[0;32m     78\u001b[0m     \u001b[1;32mdef\u001b[0m \u001b[0mclick\u001b[0m\u001b[1;33m(\u001b[0m\u001b[0mself\u001b[0m\u001b[1;33m)\u001b[0m\u001b[1;33m:\u001b[0m\u001b[1;33m\u001b[0m\u001b[1;33m\u001b[0m\u001b[0m\n\u001b[0;32m     79\u001b[0m         \u001b[1;34m\"\"\"Clicks the element.\"\"\"\u001b[0m\u001b[1;33m\u001b[0m\u001b[1;33m\u001b[0m\u001b[0m\n\u001b[1;32m---> 80\u001b[1;33m         \u001b[0mself\u001b[0m\u001b[1;33m.\u001b[0m\u001b[0m_execute\u001b[0m\u001b[1;33m(\u001b[0m\u001b[0mCommand\u001b[0m\u001b[1;33m.\u001b[0m\u001b[0mCLICK_ELEMENT\u001b[0m\u001b[1;33m)\u001b[0m\u001b[1;33m\u001b[0m\u001b[1;33m\u001b[0m\u001b[0m\n\u001b[0m\u001b[0;32m     81\u001b[0m \u001b[1;33m\u001b[0m\u001b[0m\n\u001b[0;32m     82\u001b[0m     \u001b[1;32mdef\u001b[0m \u001b[0msubmit\u001b[0m\u001b[1;33m(\u001b[0m\u001b[0mself\u001b[0m\u001b[1;33m)\u001b[0m\u001b[1;33m:\u001b[0m\u001b[1;33m\u001b[0m\u001b[1;33m\u001b[0m\u001b[0m\n",
      "\u001b[1;32mc:\\users\\nipa\\appdata\\local\\programs\\python\\python37-32\\lib\\site-packages\\selenium\\webdriver\\remote\\webelement.py\u001b[0m in \u001b[0;36m_execute\u001b[1;34m(self, command, params)\u001b[0m\n\u001b[0;32m    631\u001b[0m             \u001b[0mparams\u001b[0m \u001b[1;33m=\u001b[0m \u001b[1;33m{\u001b[0m\u001b[1;33m}\u001b[0m\u001b[1;33m\u001b[0m\u001b[1;33m\u001b[0m\u001b[0m\n\u001b[0;32m    632\u001b[0m         \u001b[0mparams\u001b[0m\u001b[1;33m[\u001b[0m\u001b[1;34m'id'\u001b[0m\u001b[1;33m]\u001b[0m \u001b[1;33m=\u001b[0m \u001b[0mself\u001b[0m\u001b[1;33m.\u001b[0m\u001b[0m_id\u001b[0m\u001b[1;33m\u001b[0m\u001b[1;33m\u001b[0m\u001b[0m\n\u001b[1;32m--> 633\u001b[1;33m         \u001b[1;32mreturn\u001b[0m \u001b[0mself\u001b[0m\u001b[1;33m.\u001b[0m\u001b[0m_parent\u001b[0m\u001b[1;33m.\u001b[0m\u001b[0mexecute\u001b[0m\u001b[1;33m(\u001b[0m\u001b[0mcommand\u001b[0m\u001b[1;33m,\u001b[0m \u001b[0mparams\u001b[0m\u001b[1;33m)\u001b[0m\u001b[1;33m\u001b[0m\u001b[1;33m\u001b[0m\u001b[0m\n\u001b[0m\u001b[0;32m    634\u001b[0m \u001b[1;33m\u001b[0m\u001b[0m\n\u001b[0;32m    635\u001b[0m     \u001b[1;32mdef\u001b[0m \u001b[0mfind_element\u001b[0m\u001b[1;33m(\u001b[0m\u001b[0mself\u001b[0m\u001b[1;33m,\u001b[0m \u001b[0mby\u001b[0m\u001b[1;33m=\u001b[0m\u001b[0mBy\u001b[0m\u001b[1;33m.\u001b[0m\u001b[0mID\u001b[0m\u001b[1;33m,\u001b[0m \u001b[0mvalue\u001b[0m\u001b[1;33m=\u001b[0m\u001b[1;32mNone\u001b[0m\u001b[1;33m)\u001b[0m\u001b[1;33m:\u001b[0m\u001b[1;33m\u001b[0m\u001b[1;33m\u001b[0m\u001b[0m\n",
      "\u001b[1;32mc:\\users\\nipa\\appdata\\local\\programs\\python\\python37-32\\lib\\site-packages\\selenium\\webdriver\\remote\\webdriver.py\u001b[0m in \u001b[0;36mexecute\u001b[1;34m(self, driver_command, params)\u001b[0m\n\u001b[0;32m    319\u001b[0m         \u001b[0mresponse\u001b[0m \u001b[1;33m=\u001b[0m \u001b[0mself\u001b[0m\u001b[1;33m.\u001b[0m\u001b[0mcommand_executor\u001b[0m\u001b[1;33m.\u001b[0m\u001b[0mexecute\u001b[0m\u001b[1;33m(\u001b[0m\u001b[0mdriver_command\u001b[0m\u001b[1;33m,\u001b[0m \u001b[0mparams\u001b[0m\u001b[1;33m)\u001b[0m\u001b[1;33m\u001b[0m\u001b[1;33m\u001b[0m\u001b[0m\n\u001b[0;32m    320\u001b[0m         \u001b[1;32mif\u001b[0m \u001b[0mresponse\u001b[0m\u001b[1;33m:\u001b[0m\u001b[1;33m\u001b[0m\u001b[1;33m\u001b[0m\u001b[0m\n\u001b[1;32m--> 321\u001b[1;33m             \u001b[0mself\u001b[0m\u001b[1;33m.\u001b[0m\u001b[0merror_handler\u001b[0m\u001b[1;33m.\u001b[0m\u001b[0mcheck_response\u001b[0m\u001b[1;33m(\u001b[0m\u001b[0mresponse\u001b[0m\u001b[1;33m)\u001b[0m\u001b[1;33m\u001b[0m\u001b[1;33m\u001b[0m\u001b[0m\n\u001b[0m\u001b[0;32m    322\u001b[0m             response['value'] = self._unwrap_value(\n\u001b[0;32m    323\u001b[0m                 response.get('value', None))\n",
      "\u001b[1;32mc:\\users\\nipa\\appdata\\local\\programs\\python\\python37-32\\lib\\site-packages\\selenium\\webdriver\\remote\\errorhandler.py\u001b[0m in \u001b[0;36mcheck_response\u001b[1;34m(self, response)\u001b[0m\n\u001b[0;32m    240\u001b[0m                 \u001b[0malert_text\u001b[0m \u001b[1;33m=\u001b[0m \u001b[0mvalue\u001b[0m\u001b[1;33m[\u001b[0m\u001b[1;34m'alert'\u001b[0m\u001b[1;33m]\u001b[0m\u001b[1;33m.\u001b[0m\u001b[0mget\u001b[0m\u001b[1;33m(\u001b[0m\u001b[1;34m'text'\u001b[0m\u001b[1;33m)\u001b[0m\u001b[1;33m\u001b[0m\u001b[1;33m\u001b[0m\u001b[0m\n\u001b[0;32m    241\u001b[0m             \u001b[1;32mraise\u001b[0m \u001b[0mexception_class\u001b[0m\u001b[1;33m(\u001b[0m\u001b[0mmessage\u001b[0m\u001b[1;33m,\u001b[0m \u001b[0mscreen\u001b[0m\u001b[1;33m,\u001b[0m \u001b[0mstacktrace\u001b[0m\u001b[1;33m,\u001b[0m \u001b[0malert_text\u001b[0m\u001b[1;33m)\u001b[0m\u001b[1;33m\u001b[0m\u001b[1;33m\u001b[0m\u001b[0m\n\u001b[1;32m--> 242\u001b[1;33m         \u001b[1;32mraise\u001b[0m \u001b[0mexception_class\u001b[0m\u001b[1;33m(\u001b[0m\u001b[0mmessage\u001b[0m\u001b[1;33m,\u001b[0m \u001b[0mscreen\u001b[0m\u001b[1;33m,\u001b[0m \u001b[0mstacktrace\u001b[0m\u001b[1;33m)\u001b[0m\u001b[1;33m\u001b[0m\u001b[1;33m\u001b[0m\u001b[0m\n\u001b[0m\u001b[0;32m    243\u001b[0m \u001b[1;33m\u001b[0m\u001b[0m\n\u001b[0;32m    244\u001b[0m     \u001b[1;32mdef\u001b[0m \u001b[0m_value_or_default\u001b[0m\u001b[1;33m(\u001b[0m\u001b[0mself\u001b[0m\u001b[1;33m,\u001b[0m \u001b[0mobj\u001b[0m\u001b[1;33m,\u001b[0m \u001b[0mkey\u001b[0m\u001b[1;33m,\u001b[0m \u001b[0mdefault\u001b[0m\u001b[1;33m)\u001b[0m\u001b[1;33m:\u001b[0m\u001b[1;33m\u001b[0m\u001b[1;33m\u001b[0m\u001b[0m\n",
      "\u001b[1;31mElementClickInterceptedException\u001b[0m: Message: element click intercepted: Element <button type=\"button\" id=\"btnSearch\" class=\"btn_search on\">...</button> is not clickable at point (206, 110). Other element would receive the click: <img src=\"../resources/images/main/img_pop_safety07_1.gif\" alt=\"전국 사회적 거리두기 2단계 - 수도권 사회적 거리두기 2.5단계 강화 국민 행동 지침 안내\">\n  (Session info: chrome=85.0.4183.102)\n"
     ]
    }
   ],
   "source": [
    "#Step 1. 크롬 드라이버를 사용해서 웹 브라우저를 실행합니다.\n",
    "path = \"c:/doit/chromedriver_win32/chromedriver.exe\"\n",
    "driver = webdriver.Chrome(path)\n",
    "\n",
    "driver.get(\"https://korean.visitkorea.or.kr/main/main.html\")\n",
    "time.sleep(2)  #  창이 모두 열릴 때 까지 2초 기다립니다.\n",
    "\n",
    "#Step 2. 검색창의 이름을 찾아서 검색어를 입력합니다\n",
    "\n",
    "driver.find_element_by_id(\"btnSearch\").click()\n",
    "\n",
    "element = driver.find_element_by_id(\"inp_search\")\n",
    "\n",
    "element.send_keys(query_txt)\n",
    "\n",
    "#Step 3. 검색 버튼을 눌러 실행합니다\n",
    "\n",
    "driver.find_element_by_link_text(\"검색\").click()"
   ]
  },
  {
   "cell_type": "code",
   "execution_count": 4,
   "metadata": {
    "scrolled": true
   },
   "outputs": [
    {
     "name": "stdout",
     "output_type": "stream",
     "text": [
      "추억이 가득한 경주, 겨울바다가 아름다운 포항으로 떠나는 여행  경상북도 경주시 #어르신추천코스#경주가볼만한곳#국립경주박물관#불국사#신라밀레니엄파크#죽도시장#호미곶#포항가볼만한곳#경북1박2일코스#경북2박3일코스#무장애여행지#장애인추천여행지#힐링여행#겨울바다#겨울바다로가자 더보기  즐겨찾기 공유하기\n",
      "\n",
      "\n",
      "“뭘 좋아할지 몰라서 다 준비했어!” 겨울방학 평창-강릉 가족 여행법  강원도 평창군 #평창가볼만한곳#강원도여행#가족여행#체험학습#이색체험#아이와함께#겨울방학가볼만한곳#강릉가볼만한곳 더보기  즐겨찾기 공유하기\n",
      "\n",
      "\n",
      "겨울왕국, 하얀 눈에 안긴 내소사와 곰소염전 변산반도 힐링 여행  전라북도 부안군 #부안가볼만한곳#겨울왕국#변산반도#힐링여행#내소사#곰소염전#염전#소금#일몰#격포항#대웅보전#공공누리#격포해수욕장#적벽강#닭이봉#솔섬#겨울바다로가자 더보기  즐겨찾기 공유하기\n",
      "\n",
      "\n",
      "뜨끈한 국수 한 그릇 먹고 나서는 담양 겨울 여행  전라남도 담양군 #겨울제철음식#담양맛집#담양국수거리#죽녹원#대나무박람회홍보관#담양장#슬로시티#창평슬로시티#삼지내마을#추천가볼만한곳#담양가볼만한곳#담양당일코스#담양1박2일코스#담양맛집#죽향문화체험마을#서당체험#미식여행#국수맛집#겨울의맛 더보기  즐겨찾기 공유하기\n",
      "\n",
      "\n",
      "겨울여행지 추천. 느린 만큼 매력적인 곳, 1박2일 안동 여행 코스  경상북도 안동시 #안동여행#겨울여행#새해맞이여행#안동하회마을#월영교#월영정#안동찜닭#안동간고등어#안동구시장#새해여행#겨울가볼만한곳 더보기  즐겨찾기 공유하기\n",
      "\n",
      "\n",
      "향긋한 굴구이, 시원한 대구탕과 함께 하는 겨울 거제여행  경상남도 거제시 #경상남도#거제#굴#굴양식장#대구#외포항#신선대#바람의언덕#해금강테마박물관#몽돌해변#드라이브#바다#겨울#힐링#여행#가족#친구#연인#추천가볼만한곳#거제가볼만한곳#거제당일코스#거제1박2일코스#겨울제철음식#미식여행#굴무침#굴구이#대구회무침#대구탕#겨울먹거리 더보기  즐겨찾기 공유하기\n",
      "\n",
      "\n",
      "기차 타고 떠나는 겨울여행, 군위 화본역과 화본마을  경상북도 군위군 #겨울기차여행 더보기  즐겨찾기 공유하기\n",
      "\n",
      "\n",
      "겨울 여행의 추억 만들기   #한국관광품질인증#여행자의방#숲속의요정#정강원관광농원#소낭구펜션#옛마실펜션#꿈꾸는노마드#더세리리조트#메모리즈호텔#애플리트#목포마리나베이호텔#IGH펜션#겨울여행#한국관광품질인증테마여행#우수숙소#인증숙소#평창숙소#거제숙소#제주숙소#속초숙소#목포숙소#포항숙소#양양숙소 더보기  즐겨찾기 공유하기\n",
      "\n",
      "\n",
      "겉은 춥지만 속은 따뜻해! 겨울 낭만 낭낭한 양평 실내 여행 코스  경기도 양평군 #실내여행지#양평여행#양평가볼만한곳#당일여행#1박2일여행#아트캉스 더보기  즐겨찾기 공유하기\n",
      "\n",
      "\n",
      "이 겨울, 혼자 떠나는 겨울 포구 여행  인천 남동구 #15_16한국관광100선#수도권#혼자여행#겨울바다로가자#19_20한국관광100선#한국관광100선#인천#소래포구 더보기  즐겨찾기 공유하기\n",
      "\n",
      "\n"
     ]
    }
   ],
   "source": [
    "# 소주제 1: 텍스트를 추출하여 화면에 출력하기\n",
    "# Step 2. 현재 페이지에 있는 내용을 화면에 출력하기\n",
    "\n",
    "time.sleep(1)\n",
    "\n",
    "html = driver.page_source\n",
    "soup = BeautifulSoup(html, 'html.parser')\n",
    "blog_list = soup.find('ul',class_='list_thumType flnon')\n",
    "\n",
    "for i in blog_list:\n",
    "    print(i.text.strip())\n",
    "    print(\"\\n\")\n",
    "    \n"
   ]
  },
  {
   "cell_type": "code",
   "execution_count": 6,
   "metadata": {},
   "outputs": [
    {
     "name": "stdout",
     "output_type": "stream",
     "text": [
      " 요청하신 데이터 수집 작업이 정상적으로 완료되었습니다\n"
     ]
    }
   ],
   "source": [
    "# 소주제 2: 텍스트를 추출하여 txt 형식으로 저장하기\n",
    "# Step 3. 현재 페이지에 있는 내용을 txt 형식으로 파일에 저장하기\n",
    "orig_stdout = sys.stdout\n",
    "f = open(f_name , 'a' , encoding='UTF-8')\n",
    "sys.stdout = f\n",
    "time.sleep(1)\n",
    "\n",
    "html = driver.page_source\n",
    "soup = BeautifulSoup(html, 'html.parser')\n",
    "blog_list = soup.find('ul',class_='list_thumType flnon')\n",
    "\n",
    "for i in blog_list:\n",
    "    print(i.text.strip())\n",
    "    print(\"\\n\")\n",
    "    \n",
    "sys.stdout = orig_stdout\n",
    "f.close()\n",
    "\n",
    "print(\" 요청하신 데이터 수집 작업이 정상적으로 완료되었습니다\")"
   ]
  },
  {
   "cell_type": "code",
   "execution_count": null,
   "metadata": {},
   "outputs": [],
   "source": []
  }
 ],
 "metadata": {
  "kernelspec": {
   "display_name": "Python 3",
   "language": "python",
   "name": "python3"
  },
  "language_info": {
   "codemirror_mode": {
    "name": "ipython",
    "version": 3
   },
   "file_extension": ".py",
   "mimetype": "text/x-python",
   "name": "python",
   "nbconvert_exporter": "python",
   "pygments_lexer": "ipython3",
   "version": "3.7.3"
  }
 },
 "nbformat": 4,
 "nbformat_minor": 2
}
