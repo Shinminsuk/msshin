{
 "cells": [
  {
   "cell_type": "code",
   "execution_count": 1,
   "metadata": {},
   "outputs": [
    {
     "name": "stdout",
     "output_type": "stream",
     "text": [
      "크롤링할 키워드는 무엇입니까?: 겨울 여행\n",
      "검색 결과를 저장할 txt 파일경로와 이름을 지정하세요(예:c:\\temp\\test.txt): c:\\data\\test1.txt\n",
      "검색 결과를 저장할 csv 파일경로와 이름을 지정하세요(예:c:\\temp\\test.csv): c:\\data\\test1.csv\n",
      "검색 결과를 저장할 xls 파일경로와 이름을 지정하세요(예:c:\\temp\\test.xls): c:\\data\\test1.xls\n"
     ]
    }
   ],
   "source": [
    "# Step 0. 필요한 모듈과 라이브러리를 로딩하고 검색어를 입력 받습니다\n",
    "from bs4 import BeautifulSoup     \n",
    "from selenium import webdriver\n",
    "import time\n",
    "import sys\n",
    "\n",
    "\n",
    "query_txt = input('크롤링할 키워드는 무엇입니까?: ')\n",
    "f_name = input('검색 결과를 저장할 txt 파일경로와 이름을 지정하세요(예:c:\\\\temp\\\\test.txt): ')\n",
    "fc_name = input('검색 결과를 저장할 csv 파일경로와 이름을 지정하세요(예:c:\\\\temp\\\\test.csv): ')\n",
    "fx_name = input('검색 결과를 저장할 xls 파일경로와 이름을 지정하세요(예:c:\\\\temp\\\\test.xls): ')\n",
    "\n",
    "#Step 1. 크롬 드라이버를 사용해서 웹 브라우저를 실행합니다.\n",
    "path = \"c:/temp/chromedriver_240/chromedriver.exe\"\n",
    "driver = webdriver.Chrome(path)\n",
    "\n",
    "driver.get(\"https://korean.visitkorea.or.kr/main/main.html\")\n",
    "time.sleep(2)  # 네이버 창이 모두 열릴 때 까지 2초 기다립니다."
   ]
  },
  {
   "cell_type": "code",
   "execution_count": 2,
   "metadata": {},
   "outputs": [],
   "source": [
    "#Step 2. 검색창의 이름을 찾아서 검색어를 입력합니다\n",
    "\n",
    "driver.find_element_by_id(\"btnSearch\").click()\n",
    "\n",
    "\n",
    "element = driver.find_element_by_id(\"inp_search\")\n",
    "\n",
    "element.send_keys(query_txt)\n",
    "\n",
    "#Step 3. 검색 버튼을 눌러 실행합니다\n",
    "\n",
    "driver.find_element_by_link_text(\"검색\").click()"
   ]
  },
  {
   "cell_type": "code",
   "execution_count": 3,
   "metadata": {},
   "outputs": [
    {
     "name": "stdout",
     "output_type": "stream",
     "text": [
      "<ul class=\"list_thumType flnon\"><li class=\"bdr_nor\"><div class=\"photo\"><a href=\"javascript:\" onclick='goDetail(\"304\",\"45e359e4-2782-4315-a9f5-71ebac668e3e\")'><img alt=\"&lt;!HS&gt;겨울&lt;!HE&gt;&lt;!HS&gt;여행&lt;!HE&gt;지 추천. 느린 만큼 매력적인 곳, 1박2일 안동 &lt;!HS&gt;여행&lt;!HE&gt; 코스\" src=\"https://support.visitkorea.or.kr/img/call?cmd=VIEW&amp;id=35fb0f27-afd4-4319-9148-fbb28b5d8683\"/></a></div><div class=\"area_txt\"> <div class=\"tit\"> <a href=\"javascript:\" onclick='goDetail(\"304\",\"45e359e4-2782-4315-a9f5-71ebac668e3e\")'><!--HS-->겨울<!--HE--><!--HS-->여행<!--HE-->지 추천. 느린 만큼 매력적인 곳, 1박2일 안동 <!--HS-->여행<!--HE--> 코스</a> </div> <p>경상북도 안동시</p> <p class=\"tag\"><span>#안동여행</span><span>#겨울여행</span><span>#새해맞이여행</span><span>#안동하회마을</span><span>#월영교</span><span>#월영정</span><span>#안동찜닭</span><span>#안동간고등어</span><span>#안동구시장</span><span>#새해여행</span><span>#겨울가볼만한곳</span> </p></div><button class=\"btn_view\" title=\"내용 더보기\" type=\"button\">더보기</button><div class=\"pop_subMenu\"> <ul> <li class=\"btn_far\"><a href=\"javascript:\" onclick='setFavoContent(\"45e359e4-2782-4315-a9f5-71ebac668e3e\")'>즐겨찾기</a></li> <li class=\"btn_share\" id=\"45e359e4-2782-4315-a9f5-71ebac668e3e\"><a href=\"javascript:\" onclick='getShareInfo(\"%3C!HS%3E%EA%B2%A8%EC%9A%B8%3C!HE%3E%3C!HS%3E%EC%97%AC%ED%96%89%3C!HE%3E%EC%A7%80%20%EC%B6%94%EC%B2%9C.%20%EB%8A%90%EB%A6%B0%20%EB%A7%8C%ED%81%BC%20%EB%A7%A4%EB%A0%A5%EC%A0%81%EC%9D%B8%20%EA%B3%B3%2C%201%EB%B0%952%EC%9D%BC%20%EC%95%88%EB%8F%99%20%3C!HS%3E%EC%97%AC%ED%96%89%3C!HE%3E%20%EC%BD%94%EC%8A%A4\",\"35fb0f27-afd4-4319-9148-fbb28b5d8683\",\"45e359e4-2782-4315-a9f5-71ebac668e3e\",\"304\");'>공유하기</a></li> </ul></div></li><li class=\"bdr_nor\"><div class=\"photo\"><a href=\"javascript:\" onclick='goDetail(\"304\",\"76c2b55b-c257-47a9-8aa7-22ea22e7231d\")'><img alt=\"“뭘 좋아할지 몰라서 다 준비했어!” &lt;!HS&gt;겨울&lt;!HE&gt;방학 평창-강릉 가족 &lt;!HS&gt;여행&lt;!HE&gt;법\" src=\"https://support.visitkorea.or.kr/img/call?cmd=VIEW&amp;id=11de2f57-50ea-47c0-953d-e53ea7560219\"/></a></div><div class=\"area_txt\"> <div class=\"tit\"> <a href=\"javascript:\" onclick='goDetail(\"304\",\"76c2b55b-c257-47a9-8aa7-22ea22e7231d\")'>“뭘 좋아할지 몰라서 다 준비했어!” <!--HS-->겨울<!--HE-->방학 평창-강릉 가족 <!--HS-->여행<!--HE-->법</a> </div> <p>강원도 평창군</p> <p class=\"tag\"><span>#평창가볼만한곳</span><span>#강원도여행</span><span>#가족여행</span><span>#체험학습</span><span>#이색체험</span><span>#아이와함께</span><span>#겨울방학가볼만한곳</span><span>#강릉가볼만한곳</span> </p></div><button class=\"btn_view\" title=\"내용 더보기\" type=\"button\">더보기</button><div class=\"pop_subMenu\"> <ul> <li class=\"btn_far\"><a href=\"javascript:\" onclick='setFavoContent(\"76c2b55b-c257-47a9-8aa7-22ea22e7231d\")'>즐겨찾기</a></li> <li class=\"btn_share\" id=\"76c2b55b-c257-47a9-8aa7-22ea22e7231d\"><a href=\"javascript:\" onclick='getShareInfo(\"%E2%80%9C%EB%AD%98%20%EC%A2%8B%EC%95%84%ED%95%A0%EC%A7%80%20%EB%AA%B0%EB%9D%BC%EC%84%9C%20%EB%8B%A4%20%EC%A4%80%EB%B9%84%ED%96%88%EC%96%B4!%E2%80%9D%20%3C!HS%3E%EA%B2%A8%EC%9A%B8%3C!HE%3E%EB%B0%A9%ED%95%99%20%ED%8F%89%EC%B0%BD-%EA%B0%95%EB%A6%89%20%EA%B0%80%EC%A1%B1%20%3C!HS%3E%EC%97%AC%ED%96%89%3C!HE%3E%EB%B2%95\",\"11de2f57-50ea-47c0-953d-e53ea7560219\",\"76c2b55b-c257-47a9-8aa7-22ea22e7231d\",\"304\");'>공유하기</a></li> </ul></div></li><li class=\"bdr_nor\"><div class=\"photo\"><a href=\"javascript:\" onclick='goDetail(\"304\",\"aa29a379-b733-4f37-a993-ecf0bb6e7745\")'><img alt=\"&lt;!HS&gt;겨울&lt;!HE&gt; &lt;!HS&gt;여행&lt;!HE&gt;의 추억 만들기\" src=\"https://support.visitkorea.or.kr/img/call?cmd=VIEW&amp;id=0c38ecbe-02ba-46ea-89e8-3bb6bf9a1798\"/></a></div><div class=\"area_txt\"> <div class=\"tit\"> <a href=\"javascript:\" onclick='goDetail(\"304\",\"aa29a379-b733-4f37-a993-ecf0bb6e7745\")'><!--HS-->겨울<!--HE--> <!--HS-->여행<!--HE-->의 추억 만들기</a> </div> <p></p> <p class=\"tag\"><span>#한국관광품질인증</span><span>#여행자의방</span><span>#숲속의요정</span><span>#정강원관광농원</span><span>#소낭구펜션</span><span>#옛마실펜션</span><span>#꿈꾸는노마드</span><span>#더세리리조트</span><span>#메모리즈호텔</span><span>#애플리트</span><span>#목포마리나베이호텔</span><span>#IGH펜션</span><span>#겨울여행</span><span>#한국관광품질인증테마여행</span><span>#우수숙소</span><span>#인증숙소</span><span>#평창숙소</span><span>#거제숙소</span><span>#제주숙소</span><span>#속초숙소</span><span>#목포숙소</span><span>#포항숙소</span><span>#양양숙소</span> </p></div><button class=\"btn_view\" title=\"내용 더보기\" type=\"button\">더보기</button><div class=\"pop_subMenu\"> <ul> <li class=\"btn_far\"><a href=\"javascript:\" onclick='setFavoContent(\"aa29a379-b733-4f37-a993-ecf0bb6e7745\")'>즐겨찾기</a></li> <li class=\"btn_share\" id=\"aa29a379-b733-4f37-a993-ecf0bb6e7745\"><a href=\"javascript:\" onclick='getShareInfo(\"%3C!HS%3E%EA%B2%A8%EC%9A%B8%3C!HE%3E%20%3C!HS%3E%EC%97%AC%ED%96%89%3C!HE%3E%EC%9D%98%20%EC%B6%94%EC%96%B5%20%EB%A7%8C%EB%93%A4%EA%B8%B0\",\"0c38ecbe-02ba-46ea-89e8-3bb6bf9a1798\",\"aa29a379-b733-4f37-a993-ecf0bb6e7745\",\"304\");'>공유하기</a></li> </ul></div></li><li class=\"bdr_nor\"><div class=\"photo\"><a href=\"javascript:\" onclick='goDetail(\"304\",\"be3db10c-b642-409c-81cc-c4cdecb5bd8b\")'><img alt=\"향긋한 굴구이, 시원한 대구탕과 함께 하는 &lt;!HS&gt;겨울&lt;!HE&gt; 거제&lt;!HS&gt;여행&lt;!HE&gt;\" src=\"https://support.visitkorea.or.kr/img/call?cmd=VIEW&amp;id=c531fd60-c5bf-4028-b8f2-dbeddad9e1ec\"/></a></div><div class=\"area_txt\"> <div class=\"tit\"> <a href=\"javascript:\" onclick='goDetail(\"304\",\"be3db10c-b642-409c-81cc-c4cdecb5bd8b\")'>향긋한 굴구이, 시원한 대구탕과 함께 하는 <!--HS-->겨울<!--HE--> 거제<!--HS-->여행<!--HE--></a> </div> <p>경상남도 거제시</p> <p class=\"tag\"><span>#경상남도</span><span>#거제</span><span>#굴</span><span>#굴양식장</span><span>#대구</span><span>#외포항</span><span>#신선대</span><span>#바람의언덕</span><span>#해금강테마박물관</span><span>#몽돌해변</span><span>#드라이브</span><span>#바다</span><span>#겨울</span><span>#힐링</span><span>#여행</span><span>#가족</span><span>#친구</span><span>#연인</span><span>#추천가볼만한곳</span><span>#거제가볼만한곳</span><span>#거제당일코스</span><span>#거제1박2일코스</span><span>#겨울제철음식</span><span>#미식여행</span><span>#굴무침</span><span>#굴구이</span><span>#대구회무침</span><span>#대구탕</span><span>#겨울먹거리</span> </p></div><button class=\"btn_view\" title=\"내용 더보기\" type=\"button\">더보기</button><div class=\"pop_subMenu\"> <ul> <li class=\"btn_far\"><a href=\"javascript:\" onclick='setFavoContent(\"be3db10c-b642-409c-81cc-c4cdecb5bd8b\")'>즐겨찾기</a></li> <li class=\"btn_share\" id=\"be3db10c-b642-409c-81cc-c4cdecb5bd8b\"><a href=\"javascript:\" onclick='getShareInfo(\"%ED%96%A5%EA%B8%8B%ED%95%9C%20%EA%B5%B4%EA%B5%AC%EC%9D%B4%2C%20%EC%8B%9C%EC%9B%90%ED%95%9C%20%EB%8C%80%EA%B5%AC%ED%83%95%EA%B3%BC%20%ED%95%A8%EA%BB%98%20%ED%95%98%EB%8A%94%20%3C!HS%3E%EA%B2%A8%EC%9A%B8%3C!HE%3E%20%EA%B1%B0%EC%A0%9C%3C!HS%3E%EC%97%AC%ED%96%89%3C!HE%3E\",\"c531fd60-c5bf-4028-b8f2-dbeddad9e1ec\",\"be3db10c-b642-409c-81cc-c4cdecb5bd8b\",\"304\");'>공유하기</a></li> </ul></div></li><li class=\"bdr_nor\"><div class=\"photo\"><a href=\"javascript:\" onclick='goDetail(\"304\",\"9616ffb2-2f9f-43c2-92ee-ae6203944df9\")'><img alt=\"기차 타고 떠나는 &lt;!HS&gt;겨울&lt;!HE&gt;&lt;!HS&gt;여행&lt;!HE&gt;, 군위 화본역과 화본마을\" src=\"https://support.visitkorea.or.kr/img/call?cmd=VIEW&amp;id=1398a58d-0733-48d9-be3a-1e099ed58f67\"/></a></div><div class=\"area_txt\"> <div class=\"tit\"> <a href=\"javascript:\" onclick='goDetail(\"304\",\"9616ffb2-2f9f-43c2-92ee-ae6203944df9\")'>기차 타고 떠나는 <!--HS-->겨울<!--HE--><!--HS-->여행<!--HE-->, 군위 화본역과 화본마을</a> </div> <p>경상북도 군위군</p> <p class=\"tag\"><span>#겨울기차여행</span> </p></div><button class=\"btn_view\" title=\"내용 더보기\" type=\"button\">더보기</button><div class=\"pop_subMenu\"> <ul> <li class=\"btn_far\"><a href=\"javascript:\" onclick='setFavoContent(\"9616ffb2-2f9f-43c2-92ee-ae6203944df9\")'>즐겨찾기</a></li> <li class=\"btn_share\" id=\"9616ffb2-2f9f-43c2-92ee-ae6203944df9\"><a href=\"javascript:\" onclick='getShareInfo(\"%EA%B8%B0%EC%B0%A8%20%ED%83%80%EA%B3%A0%20%EB%96%A0%EB%82%98%EB%8A%94%20%3C!HS%3E%EA%B2%A8%EC%9A%B8%3C!HE%3E%3C!HS%3E%EC%97%AC%ED%96%89%3C!HE%3E%2C%20%EA%B5%B0%EC%9C%84%20%ED%99%94%EB%B3%B8%EC%97%AD%EA%B3%BC%20%ED%99%94%EB%B3%B8%EB%A7%88%EC%9D%84\",\"1398a58d-0733-48d9-be3a-1e099ed58f67\",\"9616ffb2-2f9f-43c2-92ee-ae6203944df9\",\"304\");'>공유하기</a></li> </ul></div></li><li class=\"bdr_nor\"><div class=\"photo\"><a href=\"javascript:\" onclick='goDetail(\"304\",\"4a19a8d7-7b35-4ba4-a063-f5b8659a5794\")'><img alt=\"추억이 가득한 경주, &lt;!HS&gt;겨울&lt;!HE&gt;바다가 아름다운 포항으로 떠나는 &lt;!HS&gt;여행&lt;!HE&gt;\" src=\"https://support.visitkorea.or.kr/img/call?cmd=VIEW&amp;id=169b1131-2eeb-4974-987e-2d36f75e03d8\"/></a></div><div class=\"area_txt\"> <div class=\"tit\"> <a href=\"javascript:\" onclick='goDetail(\"304\",\"4a19a8d7-7b35-4ba4-a063-f5b8659a5794\")'>추억이 가득한 경주, <!--HS-->겨울<!--HE-->바다가 아름다운 포항으로 떠나는 <!--HS-->여행<!--HE--></a> </div> <p>경상북도 경주시</p> <p class=\"tag\"><span>#어르신추천코스</span><span>#경주가볼만한곳</span><span>#국립경주박물관</span><span>#불국사</span><span>#신라밀레니엄파크</span><span>#죽도시장</span><span>#호미곶</span><span>#포항가볼만한곳</span><span>#경북1박2일코스</span><span>#경북2박3일코스</span><span>#무장애여행지</span><span>#장애인추천여행지</span><span>#힐링여행</span><span>#겨울바다</span><span>#겨울바다로가자</span> </p></div><button class=\"btn_view\" title=\"내용 더보기\" type=\"button\">더보기</button><div class=\"pop_subMenu\"> <ul> <li class=\"btn_far\"><a href=\"javascript:\" onclick='setFavoContent(\"4a19a8d7-7b35-4ba4-a063-f5b8659a5794\")'>즐겨찾기</a></li> <li class=\"btn_share\" id=\"4a19a8d7-7b35-4ba4-a063-f5b8659a5794\"><a href=\"javascript:\" onclick='getShareInfo(\"%EC%B6%94%EC%96%B5%EC%9D%B4%20%EA%B0%80%EB%93%9D%ED%95%9C%20%EA%B2%BD%EC%A3%BC%2C%20%3C!HS%3E%EA%B2%A8%EC%9A%B8%3C!HE%3E%EB%B0%94%EB%8B%A4%EA%B0%80%20%EC%95%84%EB%A6%84%EB%8B%A4%EC%9A%B4%20%ED%8F%AC%ED%95%AD%EC%9C%BC%EB%A1%9C%20%EB%96%A0%EB%82%98%EB%8A%94%20%3C!HS%3E%EC%97%AC%ED%96%89%3C!HE%3E\",\"169b1131-2eeb-4974-987e-2d36f75e03d8\",\"4a19a8d7-7b35-4ba4-a063-f5b8659a5794\",\"304\");'>공유하기</a></li> </ul></div></li><li class=\"bdr_nor\"><div class=\"photo\"><a href=\"javascript:\" onclick='goDetail(\"304\",\"c6955398-ede4-4d54-905a-e3b1aacd939c\")'><img alt=\"&lt;!HS&gt;겨울&lt;!HE&gt;왕국, 하얀 눈에 안긴 내소사와 곰소염전 변산반도 힐링 &lt;!HS&gt;여행&lt;!HE&gt;\" src=\"https://support.visitkorea.or.kr/img/call?cmd=VIEW&amp;id=6a520e45-43d6-4e60-a9fe-d0cf620fd800\"/></a></div><div class=\"area_txt\"> <div class=\"tit\"> <a href=\"javascript:\" onclick='goDetail(\"304\",\"c6955398-ede4-4d54-905a-e3b1aacd939c\")'><!--HS-->겨울<!--HE-->왕국, 하얀 눈에 안긴 내소사와 곰소염전 변산반도 힐링 <!--HS-->여행<!--HE--></a> </div> <p>전라북도 부안군</p> <p class=\"tag\"><span>#부안가볼만한곳</span><span>#겨울왕국</span><span>#변산반도</span><span>#힐링여행</span><span>#내소사</span><span>#곰소염전</span><span>#염전</span><span>#소금</span><span>#일몰</span><span>#격포항</span><span>#대웅보전</span><span>#공공누리</span><span>#격포해수욕장</span><span>#적벽강</span><span>#닭이봉</span><span>#솔섬</span><span>#겨울바다로가자</span> </p></div><button class=\"btn_view\" title=\"내용 더보기\" type=\"button\">더보기</button><div class=\"pop_subMenu\"> <ul> <li class=\"btn_far\"><a href=\"javascript:\" onclick='setFavoContent(\"c6955398-ede4-4d54-905a-e3b1aacd939c\")'>즐겨찾기</a></li> <li class=\"btn_share\" id=\"c6955398-ede4-4d54-905a-e3b1aacd939c\"><a href=\"javascript:\" onclick='getShareInfo(\"%3C!HS%3E%EA%B2%A8%EC%9A%B8%3C!HE%3E%EC%99%95%EA%B5%AD%2C%20%ED%95%98%EC%96%80%20%EB%88%88%EC%97%90%20%EC%95%88%EA%B8%B4%20%EB%82%B4%EC%86%8C%EC%82%AC%EC%99%80%20%EA%B3%B0%EC%86%8C%EC%97%BC%EC%A0%84%20%EB%B3%80%EC%82%B0%EB%B0%98%EB%8F%84%20%ED%9E%90%EB%A7%81%20%3C!HS%3E%EC%97%AC%ED%96%89%3C!HE%3E\",\"6a520e45-43d6-4e60-a9fe-d0cf620fd800\",\"c6955398-ede4-4d54-905a-e3b1aacd939c\",\"304\");'>공유하기</a></li> </ul></div></li><li class=\"bdr_nor\"><div class=\"photo\"><a href=\"javascript:\" onclick='goDetail(\"304\",\"fe4be6fc-76d1-4158-8f76-5008d157c370\")'><img alt=\"뜨끈한 국수 한 그릇 먹고 나서는 담양 &lt;!HS&gt;겨울&lt;!HE&gt; &lt;!HS&gt;여행&lt;!HE&gt;\" src=\"https://support.visitkorea.or.kr/img/call?cmd=VIEW&amp;id=3f22f77d-ace4-46de-a8d7-a92e535064f8\"/></a></div><div class=\"area_txt\"> <div class=\"tit\"> <a href=\"javascript:\" onclick='goDetail(\"304\",\"fe4be6fc-76d1-4158-8f76-5008d157c370\")'>뜨끈한 국수 한 그릇 먹고 나서는 담양 <!--HS-->겨울<!--HE--> <!--HS-->여행<!--HE--></a> </div> <p>전라남도 담양군</p> <p class=\"tag\"><span>#겨울제철음식</span><span>#담양맛집</span><span>#담양국수거리</span><span>#죽녹원</span><span>#대나무박람회홍보관</span><span>#담양장</span><span>#슬로시티</span><span>#창평슬로시티</span><span>#삼지내마을</span><span>#추천가볼만한곳</span><span>#담양가볼만한곳</span><span>#담양당일코스</span><span>#담양1박2일코스</span><span>#담양맛집</span><span>#죽향문화체험마을</span><span>#서당체험</span><span>#미식여행</span><span>#국수맛집</span><span>#겨울의맛</span> </p></div><button class=\"btn_view\" title=\"내용 더보기\" type=\"button\">더보기</button><div class=\"pop_subMenu\"> <ul> <li class=\"btn_far\"><a href=\"javascript:\" onclick='setFavoContent(\"fe4be6fc-76d1-4158-8f76-5008d157c370\")'>즐겨찾기</a></li> <li class=\"btn_share\" id=\"fe4be6fc-76d1-4158-8f76-5008d157c370\"><a href=\"javascript:\" onclick='getShareInfo(\"%EB%9C%A8%EB%81%88%ED%95%9C%20%EA%B5%AD%EC%88%98%20%ED%95%9C%20%EA%B7%B8%EB%A6%87%20%EB%A8%B9%EA%B3%A0%20%EB%82%98%EC%84%9C%EB%8A%94%20%EB%8B%B4%EC%96%91%20%3C!HS%3E%EA%B2%A8%EC%9A%B8%3C!HE%3E%20%3C!HS%3E%EC%97%AC%ED%96%89%3C!HE%3E\",\"3f22f77d-ace4-46de-a8d7-a92e535064f8\",\"fe4be6fc-76d1-4158-8f76-5008d157c370\",\"304\");'>공유하기</a></li> </ul></div></li><li class=\"bdr_nor\"><div class=\"photo\"><a href=\"javascript:\" onclick='goDetail(\"304\",\"38fe830c-e2f5-4527-a58d-72e90867586a\")'><img alt=\"배신당한 &lt;!HS&gt;여행&lt;!HE&gt;자를 위로하는 제주의 &lt;!HS&gt;겨울&lt;!HE&gt; 맛집, 멋집\" src=\"https://support.visitkorea.or.kr/img/call?cmd=VIEW&amp;id=a750531b-77b1-49a5-ad4f-f3d2eea3698b\"/></a></div><div class=\"area_txt\"> <div class=\"tit\"> <a href=\"javascript:\" onclick='goDetail(\"304\",\"38fe830c-e2f5-4527-a58d-72e90867586a\")'>배신당한 <!--HS-->여행<!--HE-->자를 위로하는 제주의 <!--HS-->겨울<!--HE--> 맛집, 멋집</a> </div> <p>제주도 서귀포시</p> <p class=\"tag\"><span>#제주도가볼만한곳</span><span>#제주맛집</span><span>#와랑와랑</span><span>#돌토고리카페</span><span>#겨울맛집</span><span>#이색카페</span><span>#공공누리</span><span>#겨울가볼만한곳</span> </p></div><button class=\"btn_view\" title=\"내용 더보기\" type=\"button\">더보기</button><div class=\"pop_subMenu\"> <ul> <li class=\"btn_far\"><a href=\"javascript:\" onclick='setFavoContent(\"38fe830c-e2f5-4527-a58d-72e90867586a\")'>즐겨찾기</a></li> <li class=\"btn_share\" id=\"38fe830c-e2f5-4527-a58d-72e90867586a\"><a href=\"javascript:\" onclick='getShareInfo(\"%EB%B0%B0%EC%8B%A0%EB%8B%B9%ED%95%9C%20%3C!HS%3E%EC%97%AC%ED%96%89%3C!HE%3E%EC%9E%90%EB%A5%BC%20%EC%9C%84%EB%A1%9C%ED%95%98%EB%8A%94%20%EC%A0%9C%EC%A3%BC%EC%9D%98%20%3C!HS%3E%EA%B2%A8%EC%9A%B8%3C!HE%3E%20%EB%A7%9B%EC%A7%91%2C%20%EB%A9%8B%EC%A7%91\",\"a750531b-77b1-49a5-ad4f-f3d2eea3698b\",\"38fe830c-e2f5-4527-a58d-72e90867586a\",\"304\");'>공유하기</a></li> </ul></div></li><li class=\"bdr_nor\"><div class=\"photo\"><a href=\"javascript:\" onclick='goDetail(\"304\",\"1d93221f-5599-40b4-b6cc-a6cea3dd1159\")'><img alt=\"강원도 가볼만한 곳. &lt;!HS&gt;겨울&lt;!HE&gt;왕국부터 분위기있는 카페까지 모두 모았다!춘천 당일치기 &lt;!HS&gt;여행&lt;!HE&gt;코스★ (8)\" src=\"https://support.visitkorea.or.kr/img/call?cmd=VIEW&amp;id=c8455051-b3cc-473f-a653-02f5ad5a8c3b\"/></a></div><div class=\"area_txt\"> <div class=\"tit\"> <a href=\"javascript:\" onclick='goDetail(\"304\",\"1d93221f-5599-40b4-b6cc-a6cea3dd1159\")'>강원도 가볼만한 곳. <!--HS-->겨울<!--HE-->왕국부터 분위기있는 카페까지 모두 모았다!춘천 당일치기 <!--HS-->여행<!--HE-->코스★ (8)</a> </div> <p>강원도 춘천시</p> <p class=\"tag\"><span>#춘천여행</span><span>#춘천당일치기</span><span>#강원도여행</span><span>#상고대</span><span>#춘천출사명소</span><span>#김유정문학촌</span><span>#소양강</span><span>#스카이워크</span><span>#춘천데이트코스</span><span>#당일치기여행</span> </p></div><button class=\"btn_view\" title=\"내용 더보기\" type=\"button\">더보기</button><div class=\"pop_subMenu\"> <ul> <li class=\"btn_far\"><a href=\"javascript:\" onclick='setFavoContent(\"1d93221f-5599-40b4-b6cc-a6cea3dd1159\")'>즐겨찾기</a></li> <li class=\"btn_share\" id=\"1d93221f-5599-40b4-b6cc-a6cea3dd1159\"><a href=\"javascript:\" onclick='getShareInfo(\"%EA%B0%95%EC%9B%90%EB%8F%84%20%EA%B0%80%EB%B3%BC%EB%A7%8C%ED%95%9C%20%EA%B3%B3.%20%3C!HS%3E%EA%B2%A8%EC%9A%B8%3C!HE%3E%EC%99%95%EA%B5%AD%EB%B6%80%ED%84%B0%20%EB%B6%84%EC%9C%84%EA%B8%B0%EC%9E%88%EB%8A%94%20%EC%B9%B4%ED%8E%98%EA%B9%8C%EC%A7%80%20%EB%AA%A8%EB%91%90%20%EB%AA%A8%EC%95%98%EB%8B%A4!%EC%B6%98%EC%B2%9C%20%EB%8B%B9%EC%9D%BC%EC%B9%98%EA%B8%B0%20%3C!HS%3E%EC%97%AC%ED%96%89%3C!HE%3E%EC%BD%94%EC%8A%A4%E2%98%85%C2%A0(8)\",\"c8455051-b3cc-473f-a653-02f5ad5a8c3b\",\"1d93221f-5599-40b4-b6cc-a6cea3dd1159\",\"304\");'>공유하기</a></li> </ul></div></li></ul>\n"
     ]
    }
   ],
   "source": [
    "# Step 4. 현재 페이지에 있는 내용을 화면에 출력하기\n",
    "\n",
    "time.sleep(1)\n",
    "\n",
    "html = driver.page_source\n",
    "soup = BeautifulSoup(html, 'html.parser')\n",
    "content_list = soup.find('ul',class_='list_thumType flnon')\n",
    "print(content_list)"
   ]
  },
  {
   "cell_type": "code",
   "execution_count": 4,
   "metadata": {},
   "outputs": [
    {
     "name": "stdout",
     "output_type": "stream",
     "text": [
      "번호: 1\n",
      "내용: 겨울여행지 추천. 느린 만큼 매력적인 곳, 1박2일 안동 여행 코스\n",
      "태그: #안동여행#겨울여행#새해맞이여행#안동하회마을#월영교#월영정#안동찜닭#안동간고등어#안동구시장#새해여행#겨울가볼만한곳\n",
      "\n",
      "\n",
      "번호: 2\n",
      "내용: “뭘 좋아할지 몰라서 다 준비했어!” 겨울방학 평창-강릉 가족 여행법\n",
      "태그: #평창가볼만한곳#강원도여행#가족여행#체험학습#이색체험#아이와함께#겨울방학가볼만한곳#강릉가볼만한곳\n",
      "\n",
      "\n",
      "번호: 3\n",
      "내용: 겨울 여행의 추억 만들기\n",
      "태그: #한국관광품질인증#여행자의방#숲속의요정#정강원관광농원#소낭구펜션#옛마실펜션#꿈꾸는노마드#더세리리조트#메모리즈호텔#애플리트#목포마리나베이호텔#IGH펜션#겨울여행#한국관광품질인증테마여행#우수숙소#인증숙소#평창숙소#거제숙소#제주숙소#속초숙소#목포숙소#포항숙소#양양숙소\n",
      "\n",
      "\n",
      "번호: 4\n",
      "내용: 향긋한 굴구이, 시원한 대구탕과 함께 하는 겨울 거제여행\n",
      "태그: #경상남도#거제#굴#굴양식장#대구#외포항#신선대#바람의언덕#해금강테마박물관#몽돌해변#드라이브#바다#겨울#힐링#여행#가족#친구#연인#추천가볼만한곳#거제가볼만한곳#거제당일코스#거제1박2일코스#겨울제철음식#미식여행#굴무침#굴구이#대구회무침#대구탕#겨울먹거리\n",
      "\n",
      "\n",
      "번호: 5\n",
      "내용: 기차 타고 떠나는 겨울여행, 군위 화본역과 화본마을\n",
      "태그: #겨울기차여행\n",
      "\n",
      "\n",
      "번호: 6\n",
      "내용: 추억이 가득한 경주, 겨울바다가 아름다운 포항으로 떠나는 여행\n",
      "태그: #어르신추천코스#경주가볼만한곳#국립경주박물관#불국사#신라밀레니엄파크#죽도시장#호미곶#포항가볼만한곳#경북1박2일코스#경북2박3일코스#무장애여행지#장애인추천여행지#힐링여행#겨울바다#겨울바다로가자\n",
      "\n",
      "\n",
      "번호: 7\n",
      "내용: 겨울왕국, 하얀 눈에 안긴 내소사와 곰소염전 변산반도 힐링 여행\n",
      "태그: #부안가볼만한곳#겨울왕국#변산반도#힐링여행#내소사#곰소염전#염전#소금#일몰#격포항#대웅보전#공공누리#격포해수욕장#적벽강#닭이봉#솔섬#겨울바다로가자\n",
      "\n",
      "\n",
      "번호: 8\n",
      "내용: 뜨끈한 국수 한 그릇 먹고 나서는 담양 겨울 여행\n",
      "태그: #겨울제철음식#담양맛집#담양국수거리#죽녹원#대나무박람회홍보관#담양장#슬로시티#창평슬로시티#삼지내마을#추천가볼만한곳#담양가볼만한곳#담양당일코스#담양1박2일코스#담양맛집#죽향문화체험마을#서당체험#미식여행#국수맛집#겨울의맛\n",
      "\n",
      "\n",
      "번호: 9\n",
      "내용: 배신당한 여행자를 위로하는 제주의 겨울 맛집, 멋집\n",
      "태그: #제주도가볼만한곳#제주맛집#와랑와랑#돌토고리카페#겨울맛집#이색카페#공공누리#겨울가볼만한곳\n",
      "\n",
      "\n",
      "번호: 10\n",
      "내용: 강원도 가볼만한 곳. 겨울왕국부터 분위기있는 카페까지 모두 모았다!춘천 당일치기 여행코스★ (8)\n",
      "태그: #춘천여행#춘천당일치기#강원도여행#상고대#춘천출사명소#김유정문학촌#소양강#스카이워크#춘천데이트코스#당일치기여행\n",
      "\n",
      "\n"
     ]
    }
   ],
   "source": [
    "# 소주제 1: 특정 항목들을 분리해서 추출하기\n",
    "no = 1\n",
    "no2 =[ ]\n",
    "contents2=[ ]\n",
    "tags2=[ ]\n",
    "\n",
    "for i in content_list:\n",
    "    no2.append(no)\n",
    "    print('번호:',no)\n",
    "    \n",
    "    contents = i.find('div','tit').get_text( )\n",
    "    contents2.append(contents)\n",
    "    print('내용:',contents.strip())\n",
    "    \n",
    "    tag = i.find('p','tag').get_text()\n",
    "    tags2.append(tag)\n",
    "    print('태그:',tag.strip())\n",
    "    print(\"\\n\")\n",
    "    \n",
    "    no += 1\n",
    "    "
   ]
  },
  {
   "cell_type": "code",
   "execution_count": 5,
   "metadata": {},
   "outputs": [
    {
     "name": "stdout",
     "output_type": "stream",
     "text": [
      " txt 파일 저장 경로: c:\\data\\test1.txt\n",
      " csv 파일 저장 경로: c:\\data\\test1.csv\n",
      " xls 파일 저장 경로: c:\\data\\test1.xls\n"
     ]
    }
   ],
   "source": [
    "# 소주제 2: 분리 수집된 데이터를 데이터 프레임으로 만들어서 csv , xls 형식으로 저장하기\n",
    "# 출력 결과를 txt 파일로 저장하기\n",
    "f = open(f_name, 'a',encoding='UTF-8')\n",
    "f.write(str(contents2))\n",
    "f.write(str(tags2))\n",
    "f.close( )\n",
    "print(\" txt 파일 저장 경로: %s\" %f_name)    \n",
    "    \n",
    "# 출력 결과를 표(데이터 프레임) 형태로 만들기\n",
    "import pandas as pd\n",
    "\n",
    "korea_trip = pd.DataFrame()\n",
    "korea_trip['번호']=no2\n",
    "korea_trip['내용']=contents2\n",
    "korea_trip['태그']=tags2\n",
    "\n",
    "# csv 형태로 저장하기\n",
    "korea_trip.to_csv(fc_name,encoding=\"utf-8-sig\")\n",
    "print(\" csv 파일 저장 경로: %s\" %fc_name)\n",
    "\n",
    "# 엑셀 형태로 저장하기\n",
    "import xlwt   # pip install xlwt 실행 후 수행\n",
    "korea_trip.to_excel(fx_name)\n",
    "print(\" xls 파일 저장 경로: %s\" %fx_name)"
   ]
  },
  {
   "cell_type": "code",
   "execution_count": null,
   "metadata": {},
   "outputs": [],
   "source": []
  }
 ],
 "metadata": {
  "kernelspec": {
   "display_name": "Python 3",
   "language": "python",
   "name": "python3"
  },
  "language_info": {
   "codemirror_mode": {
    "name": "ipython",
    "version": 3
   },
   "file_extension": ".py",
   "mimetype": "text/x-python",
   "name": "python",
   "nbconvert_exporter": "python",
   "pygments_lexer": "ipython3",
   "version": "3.7.3"
  }
 },
 "nbformat": 4,
 "nbformat_minor": 2
}
